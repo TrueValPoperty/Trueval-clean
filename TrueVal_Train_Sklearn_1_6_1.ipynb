
{
 "cells": [
  {
   "cell_type": "code",
   "execution_count": null,
   "id": "import-libs",
   "metadata": {},
   "outputs": [],
   "source": [
    "# Install correct version if running locally\n",
    "!pip install scikit-learn==1.6.1 pandas openpyxl joblib"
   ]
  },
  {
   "cell_type": "code",
   "execution_count": null,
   "id": "imports",
   "metadata": {},
   "outputs": [],
   "source": [
    "import pandas as pd\n",
    "from sklearn.tree import DecisionTreeRegressor\n",
    "from sklearn.model_selection import train_test_split\n",
    "from sklearn.metrics import mean_absolute_error\n",
    "import joblib"
   ]
  },
  {
   "cell_type": "code",
   "execution_count": null,
   "id": "load-data",
   "metadata": {},
   "outputs": [],
   "source": [
    "# Replace with your actual Airtable CSV or manual data\n",
    "df = pd.read_csv('airtable_data.csv')  # Assumes export or mock data in this file\n",
    "df = df.dropna(subset=['price', 'bedrooms', 'postcode'])"
   ]
  },
  {
   "cell_type": "code",
   "execution_count": null,
   "id": "prepare-features",
   "metadata": {},
   "outputs": [],
   "source": [
    "# Simple encoding (you can improve this)\n",
    "df['postcode_prefix'] = df['postcode'].str.extract(r'(\\w+)')\n",
    "df = pd.get_dummies(df, columns=['postcode_prefix', 'heating_type', 'epc_rating'], drop_first=True)\n",
    "features = df.drop(columns=['price', 'postcode'])\n",
    "labels = df['price']"
   ]
  },
  {
   "cell_type": "code",
   "execution_count": null,
   "id": "train-model",
   "metadata": {},
   "outputs": [],
   "source": [
    "X_train, X_test, y_train, y_test = train_test_split(features, labels, test_size=0.2, random_state=42)\n",
    "model = DecisionTreeRegressor(random_state=42)\n",
    "model.fit(X_train, y_train)\n",
    "preds = model.predict(X_test)\n",
    "mae = mean_absolute_error(y_test, preds)\n",
    "print(f'MAE: {mae}')"
   ]
  },
  {
   "cell_type": "code",
   "execution_count": null,
   "id": "save-model",
   "metadata": {},
   "outputs": [],
   "source": [
    "joblib.dump(model, 'ai_estimator.pkl')\n",
    "print('Model saved as ai_estimator.pkl')"
   ]
  }
 ],
 "metadata": {
  "kernelspec": {
   "display_name": "Python 3",
   "language": "python",
   "name": "python3"
  },
  "language_info": {
   "name": "python",
   "version": "3.11"
  }
 },
 "nbformat": 4,
 "nbformat_minor": 5
}
