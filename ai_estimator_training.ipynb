{
 "cells": [
  {
   "cell_type": "markdown",
   "id": "a8dc723a",
   "metadata": {},
   "source": [
    "# 🏠 TrueVal AI Model Training\n",
    "This notebook trains a Decision Tree model to predict house prices using property data from `airtable_data.csv`."
   ]
  },
  {
   "cell_type": "code",
   "execution_count": null,
   "id": "52e08970",
   "metadata": {},
   "outputs": [],
   "source": [
    "# ✅ Step 1: Import libraries\n",
    "import os\n",
    "import pandas as pd\n",
    "from sklearn.ensemble import RandomForestRegressor\n",
    "from sklearn.model_selection import train_test_split\n",
    "from sklearn.metrics import mean_absolute_error\n",
    "import joblib"
   ]
  },
  {
   "cell_type": "code",
   "execution_count": null,
   "id": "7526f579",
   "metadata": {},
   "outputs": [],
   "source": [
    "# ✅ Step 2: Define paths and clear old data\n",
    "DATA_FILE = \"airtable_data.csv\"\n",
    "MODEL_FILE = \"ai_estimator.pkl\"\n",
    "\n",
    "# Option: Clear CSV content but keep headers\n",
    "def clear_csv_file(path):\n",
    "    with open(path, \"w\") as f:\n",
    "        f.write(\"price,bedrooms,postcode,heating_type,epc_rating,sqft\\n\")\n",
    "    print(f\"✅ Cleared contents of {path}\")\n",
    "\n",
    "clear_csv_file(DATA_FILE)"
   ]
  },
  {
   "cell_type": "code",
   "execution_count": null,
   "id": "e562200e",
   "metadata": {},
   "outputs": [],
   "source": [
    "# ✅ Step 3: Load and clean data\n",
    "df = pd.read_csv(DATA_FILE)\n",
    "df = df.dropna(subset=['price', 'bedrooms', 'postcode'])\n",
    "df['postcode_prefix'] = df['postcode'].str.extract(r'(\\w+)')\n",
    "df = pd.get_dummies(df, columns=['postcode_prefix', 'heating_type', 'epc_rating'], drop_first=True)\n",
    "\n",
    "features = df.drop(columns=['price', 'postcode'])\n",
    "labels = df['price']"
   ]
  },
  {
   "cell_type": "code",
   "execution_count": null,
   "id": "75654619",
   "metadata": {},
   "outputs": [],
   "source": [
    "# ✅ Step 4: Train the model\n",
    "X_train, X_test, y_train, y_test = train_test_split(features, labels, test_size=0.2, random_state=42)\n",
    "model = RandomForestRegressor(random_state=42)\n",
    "model.fit(X_train, y_train)"
   ]
  },
  {
   "cell_type": "code",
   "execution_count": null,
   "id": "7291dfe6",
   "metadata": {},
   "outputs": [],
   "source": [
    "# ✅ Step 5: Evaluate and save model\n",
    "preds = model.predict(X_test)\n",
    "mae = mean_absolute_error(y_test, preds)\n",
    "print(f\"📊 MAE: £{mae:,.2f}\")\n",
    "\n",
    "joblib.dump(model, MODEL_FILE)\n",
    "print(f\"✅ Model saved as {MODEL_FILE}\")"
   ]
  }
 ],
 "metadata": {},
 "nbformat": 4,
 "nbformat_minor": 5
}
