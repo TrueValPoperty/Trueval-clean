
{
 "cells": [
  {
   "cell_type": "markdown",
   "metadata": {},
   "source": [
    "# AI Estimator Training Notebook\n",
    "This notebook trains a regression model on property data with additional features."
   ]
  },
  {
   "cell_type": "code",
   "execution_count": null,
   "metadata": {},
   "outputs": [],
   "source": [
    "import pandas as pd\n",
    "from sklearn.ensemble import RandomForestRegressor\n",
    "from sklearn.model_selection import train_test_split\n",
    "from sklearn.metrics import mean_absolute_error\n",
    "import joblib\n",
    "\n",
    "# Load your data\n",
    "df = pd.read_csv('property_data.csv')\n",
    "\n",
    "# Define features and target\n",
    "features = ['bedrooms', 'bathrooms', 'square_feet', 'epc_rating', 'heating_type']\n",
    "df = df.dropna(subset=features + ['price'])\n",
    "X = pd.get_dummies(df[features])\n",
    "y = df['price']\n",
    "\n",
    "# Train-test split\n",
    "X_train, X_test, y_train, y_test = train_test_split(X, y, test_size=0.2, random_state=42)\n",
    "\n",
    "# Train the model\n",
    "model = RandomForestRegressor(n_estimators=100, random_state=42)\n",
    "model.fit(X_train, y_train)\n",
    "\n",
    "# Evaluate\n",
    "preds = model.predict(X_test)\n",
    "print(f'MAE: {mean_absolute_error(y_test, preds)}')\n",
    "\n",
    "# Save the model\n",
    "joblib.dump(model, 'ai_estimator.pkl')"
   ]
  }
 ],
 "metadata": {
  "kernelspec": {
   "display_name": "Python 3",
   "language": "python",
   "name": "python3"
  },
  "language_info": {
   "name": "python",
   "version": "3.11"
  }
 },
 "nbformat": 4,
 "nbformat_minor": 2
}
